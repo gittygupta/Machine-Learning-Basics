{
 "cells": [
  {
   "cell_type": "code",
   "execution_count": 1,
   "metadata": {},
   "outputs": [],
   "source": [
    "# Decision Tree Regression\n",
    "# Uses ensembles\n",
    "\n",
    "# Regression template:-\n",
    "# Contains stuff pretty much required for later building of models\n",
    "\n",
    "# Data Preprocessing:\n",
    "# Importing the libraries\n",
    "import numpy as np\n",
    "import matplotlib.pyplot as plt\n",
    "import pandas as pd\n",
    "\n",
    "# Importing the dataset\n",
    "dataset = pd.read_csv('Position_Salaries.csv')\n",
    "\n",
    "# Separating into dependent and independent variables\n",
    "x = dataset.iloc[:, 1:2].values\n",
    "y = dataset.iloc[:, 2].values"
   ]
  },
  {
   "cell_type": "code",
   "execution_count": 2,
   "metadata": {},
   "outputs": [
    {
     "data": {
      "text/plain": [
       "'# Feature Scaling:-\\nfrom sklearn.preprocessing import StandardScaler\\nsc_x = StandardScaler()\\nx_train = sc_x.fit_transform(x_train)\\nx_test = sc_x.transform(x_test)\\n'"
      ]
     },
     "execution_count": 2,
     "metadata": {},
     "output_type": "execute_result"
    }
   ],
   "source": [
    "'''# Splitting into training and test sets\n",
    "from sklearn.model_selection import train_test_split\n",
    "x_train, x_test, y_train, y_test = train_test_split(x, y, test_size = 0.2, random_state = 0)\n",
    "'''\n",
    "\n",
    "'''# Feature Scaling:-\n",
    "from sklearn.preprocessing import StandardScaler\n",
    "sc_x = StandardScaler()\n",
    "x_train = sc_x.fit_transform(x_train)\n",
    "x_test = sc_x.transform(x_test)\n",
    "'''"
   ]
  },
  {
   "cell_type": "code",
   "execution_count": 15,
   "metadata": {},
   "outputs": [
    {
     "data": {
      "text/plain": [
       "RandomForestRegressor(bootstrap=True, criterion='mse', max_depth=None,\n",
       "           max_features='auto', max_leaf_nodes=None,\n",
       "           min_impurity_decrease=0.0, min_impurity_split=None,\n",
       "           min_samples_leaf=1, min_samples_split=2,\n",
       "           min_weight_fraction_leaf=0.0, n_estimators=300, n_jobs=None,\n",
       "           oob_score=False, random_state=0, verbose=0, warm_start=False)"
      ]
     },
     "execution_count": 15,
     "metadata": {},
     "output_type": "execute_result"
    }
   ],
   "source": [
    "# Fitting the Random Forest Regression Model to the dataset\n",
    "from sklearn.ensemble import RandomForestRegressor\n",
    "regressor = RandomForestRegressor(n_estimators = 300, criterion = 'mse', random_state = 0)\n",
    "# n_estimators -> number of decision trees in the forest, by default 10\n",
    "# criterion -> Mean squared error, takes the sum of squares of the errors between predictions and actual values and finds mean\n",
    "#              Can be other criterion too, will be discovered later. mse by default\n",
    "\n",
    "# We can play around with 'n_estimators' to make more precise decisions and consequently find which one is the best\n",
    "# We try with n_estimators = 10 initially then 100 and then 300\n",
    "\n",
    "regressor.fit(x, y)"
   ]
  },
  {
   "cell_type": "code",
   "execution_count": 16,
   "metadata": {},
   "outputs": [
    {
     "data": {
      "image/png": "[encoded data removed]",
      "text/plain": [
       "<Figure size 432x288 with 1 Axes>"
      ]
     },
     "metadata": {
      "needs_background": "light"
     },
     "output_type": "display_data"
    }
   ],
   "source": [
    "# Visualising the Regression results\n",
    "\n",
    "y_pred = regressor.predict(x)\n",
    "plt.scatter(x, y, color = 'orange')\n",
    "plt.plot(x, y_pred)\n",
    "plt.title('Random Forest Regression plot')\n",
    "plt.xlabel('Position level')\n",
    "plt.xlabel('Salary')\n",
    "plt.show()"
   ]
  },
  {
   "cell_type": "code",
   "execution_count": 17,
   "metadata": {},
   "outputs": [
    {
     "data": {
      "image/png": "[encoded data removed]",
      "text/plain": [
       "<Figure size 432x288 with 1 Axes>"
      ]
     },
     "metadata": {
      "needs_background": "light"
     },
     "output_type": "display_data"
    }
   ],
   "source": [
    "# Visualising the Regression results (for higher resolution and smoother curve)\n",
    "\n",
    "# Last time we had only 1 decision tree and now we have 10 which could possibly improve the results\n",
    "# Here we wil supposedly have more discontinuities leading to more accurate means of 'y' leading to better predictions of 'y'\n",
    "\n",
    "x_grid = np.arange(min(x), max(x), 0.01)\n",
    "x_grid = x_grid.reshape((len(x_grid), 1))\n",
    "\n",
    "y_pred = regressor.predict(x_grid)\n",
    "plt.scatter(x, y, color = 'orange')\n",
    "plt.plot(x_grid, y_pred)\n",
    "plt.title('Polynomial Regression plot')\n",
    "plt.xlabel('Position level')\n",
    "plt.xlabel('Salary')\n",
    "plt.show()\n",
    "\n",
    "# Each jump discontinuty corresponds to the average of all the predictions made by each of the 'n' trees of the forest\n",
    "# Increasing 'n' doesnt guarantee more number of discontinuities, i.e, number of steps in the graph remains the same\n",
    "# Increasing 'n' guarantees a better average value of 'y' making the predictions more precise"
   ]
  },
  {
   "cell_type": "code",
   "execution_count": 18,
   "metadata": {},
   "outputs": [
    {
     "data": {
      "text/plain": [
       "array([160333.33333333])"
      ]
     },
     "execution_count": 18,
     "metadata": {},
     "output_type": "execute_result"
    }
   ],
   "source": [
    "# Predicting new result with a new input\n",
    "y_pred = regressor.predict([[6.5]])\n",
    "y_pred\n",
    "\n",
    "# When we predict this, actually we receive 'n' predictions from 'n' different trees and the average gives us this result\n",
    "# With increasing number of trees in forest we get more accurate results. This is more like wisdom of crowd"
   ]
  },
  {
   "cell_type": "code",
   "execution_count": null,
   "metadata": {},
   "outputs": [],
   "source": [
    "# This is basically one of the best prediction methods\n",
    "# Here there are 'n' number of same models to make a predictions\n",
    "# Later we will combine different machine learning models to get even better predictions"
   ]
  }
 ],
 "metadata": {
  "kernelspec": {
   "display_name": "Python 3",
   "language": "python",
   "name": "python3"
  },
  "language_info": {
   "codemirror_mode": {
    "name": "ipython",
    "version": 3
   },
   "file_extension": ".py",
   "mimetype": "text/x-python",
   "name": "python",
   "nbconvert_exporter": "python",
   "pygments_lexer": "ipython3",
   "version": "3.7.3"
  },
  "varInspector": {
   "cols": {
    "lenName": 16,
    "lenType": 16,
    "lenVar": 40
   },
   "kernels_config": {
    "python": {
     "delete_cmd_postfix": "",
     "delete_cmd_prefix": "del ",
     "library": "var_list.py",
     "varRefreshCmd": "print(var_dic_list())"
    },
    "r": {
     "delete_cmd_postfix": ") ",
     "delete_cmd_prefix": "rm(",
     "library": "var_list.r",
     "varRefreshCmd": "cat(var_dic_list()) "
    }
   },
   "types_to_exclude": [
    "module",
    "function",
    "builtin_function_or_method",
    "instance",
    "_Feature"
   ],
   "window_display": false
  }
 },
 "nbformat": 4,
 "nbformat_minor": 2
}
