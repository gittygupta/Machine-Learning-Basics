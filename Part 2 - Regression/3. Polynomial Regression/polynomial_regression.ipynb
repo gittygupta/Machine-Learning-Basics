{
 "cells": [
  {
   "cell_type": "code",
   "execution_count": 42,
   "metadata": {},
   "outputs": [],
   "source": [
    "# Polynomial Regression:\n",
    "# Technically not linear regrression\n",
    "# In this case the salary is increasing exponentially wrt the level. Position is equivalent to level number\n",
    "# So position is not considered as another significant variable as it is redundant"
   ]
  },
  {
   "cell_type": "code",
   "execution_count": 43,
   "metadata": {},
   "outputs": [],
   "source": [
    "# Data Preprocessing:\n",
    "# Importing the libraries\n",
    "import numpy as np\n",
    "import matplotlib.pyplot as plt\n",
    "import pandas as pd\n",
    "\n",
    "# Importing the dataset\n",
    "dataset = pd.read_csv('Position_Salaries.csv')\n",
    "\n",
    "# Separating into dependent and independent variables\n",
    "# We technically don't need the 'Position' column cz it's kinda encoded in terms of the level actually like Business Analyst = 1\n",
    "# We want matrix of features 'x' to be seen as a matrix and not a vector. So we do it like this.\n",
    "x = dataset.iloc[:, 1:2].values\n",
    "y = dataset.iloc[:, 2].values\n",
    "\n",
    "# We don't split the dataset because the data is too less. But we will predict by giving in some random values"
   ]
  },
  {
   "cell_type": "code",
   "execution_count": 44,
   "metadata": {},
   "outputs": [
    {
     "data": {
      "text/plain": [
       "array([[ 1],\n",
       "       [ 2],\n",
       "       [ 3],\n",
       "       [ 4],\n",
       "       [ 5],\n",
       "       [ 6],\n",
       "       [ 7],\n",
       "       [ 8],\n",
       "       [ 9],\n",
       "       [10]], dtype=int64)"
      ]
     },
     "execution_count": 44,
     "metadata": {},
     "output_type": "execute_result"
    }
   ],
   "source": [
    "x        # Now it's a matrix and not a vector\n",
    "# It is always better to keep 'x' as a matrix evem if it has only 1 column and 'y' as a vector"
   ]
  },
  {
   "cell_type": "code",
   "execution_count": 45,
   "metadata": {},
   "outputs": [
    {
     "data": {
      "text/plain": [
       "LinearRegression(copy_X=True, fit_intercept=True, n_jobs=None,\n",
       "         normalize=False)"
      ]
     },
     "execution_count": 45,
     "metadata": {},
     "output_type": "execute_result"
    }
   ],
   "source": [
    "# We will build both linear and polynomial regression models to compare them\n",
    "\n",
    "# Linear Regression model:\n",
    "from sklearn.linear_model import LinearRegression\n",
    "linear_regressor = LinearRegression()\n",
    "linear_regressor.fit(x, y)"
   ]
  },
  {
   "cell_type": "code",
   "execution_count": 46,
   "metadata": {},
   "outputs": [],
   "source": [
    "# Polynomial Regression model:\n",
    "# This class is imported from preprocessing library and not the linear_model library\n",
    "# PolynomialFeatures takes in the degree \n",
    "# Thus it creates x^1, x^2 ... x^n different variables based on the degree entered\n",
    "# degree = 2, by default\n",
    "\n",
    "from sklearn.preprocessing import PolynomialFeatures\n",
    "polynomial_regressor = PolynomialFeatures(degree = 2)\n",
    "x_poly = polynomial_regressor.fit_transform(x)        # We use fit_transform cz it will create new values and transform\n",
    "                                                         # the empty variable to non-empty"
   ]
  },
  {
   "cell_type": "code",
   "execution_count": 47,
   "metadata": {},
   "outputs": [
    {
     "data": {
      "text/plain": [
       "array([[  1.,   1.,   1.],\n",
       "       [  1.,   2.,   4.],\n",
       "       [  1.,   3.,   9.],\n",
       "       [  1.,   4.,  16.],\n",
       "       [  1.,   5.,  25.],\n",
       "       [  1.,   6.,  36.],\n",
       "       [  1.,   7.,  49.],\n",
       "       [  1.,   8.,  64.],\n",
       "       [  1.,   9.,  81.],\n",
       "       [  1.,  10., 100.]])"
      ]
     },
     "execution_count": 47,
     "metadata": {},
     "output_type": "execute_result"
    }
   ],
   "source": [
    "x_poly\n",
    "# There is a column of 1's for the constant 'b0' of the equation because we can do backward elimination if needed\n",
    "# Thus we can understand that polynomial regression is somewhat like Multiple linear regression, only with some extra libraries"
   ]
  },
  {
   "cell_type": "code",
   "execution_count": 48,
   "metadata": {},
   "outputs": [
    {
     "data": {
      "text/plain": [
       "dtype('float64')"
      ]
     },
     "execution_count": 48,
     "metadata": {},
     "output_type": "execute_result"
    }
   ],
   "source": [
    "x_poly.dtype"
   ]
  },
  {
   "cell_type": "code",
   "execution_count": 49,
   "metadata": {},
   "outputs": [
    {
     "data": {
      "text/plain": [
       "LinearRegression(copy_X=True, fit_intercept=True, n_jobs=None,\n",
       "         normalize=False)"
      ]
     },
     "execution_count": 49,
     "metadata": {},
     "output_type": "execute_result"
    }
   ],
   "source": [
    "# Now we create a new multiple linear regression model with the 'x_poly' values this time\n",
    "# Thus 'linear_regression_2' is our actual polynomial regression model\n",
    "linear_regressor_2 = LinearRegression()\n",
    "linear_regressor_2.fit(x_poly, y)"
   ]
  },
  {
   "cell_type": "code",
   "execution_count": 50,
   "metadata": {},
   "outputs": [
    {
     "data": {
      "image/png": "[encoded data removed]",
      "text/plain": [
       "<Figure size 432x288 with 1 Axes>"
      ]
     },
     "metadata": {
      "needs_background": "light"
     },
     "output_type": "display_data"
    }
   ],
   "source": [
    "# Visualising the Linear Regression results\n",
    "\n",
    "y_pred = linear_regressor.predict(x)\n",
    "plt.scatter(x, y, color = 'orange')\n",
    "plt.plot(x, y_pred)\n",
    "plt.title('Linear Regression plot')\n",
    "plt.xlabel('Position level')\n",
    "plt.xlabel('Salary')\n",
    "plt.show()\n",
    "\n",
    "# As we can see that linear regression straight line is nowhere a good predictor"
   ]
  },
  {
   "cell_type": "code",
   "execution_count": 51,
   "metadata": {},
   "outputs": [
    {
     "data": {
      "text/plain": [
       "array([-114454.54545455,  -33575.75757576,   47303.03030303,\n",
       "        128181.81818182,  209060.60606061,  289939.39393939,\n",
       "        370818.18181818,  451696.96969697,  532575.75757576,\n",
       "        613454.54545455])"
      ]
     },
     "execution_count": 51,
     "metadata": {},
     "output_type": "execute_result"
    }
   ],
   "source": [
    "y_pred\n",
    "# These are not great predictions\n",
    "# Some even come in -ve. LOL XD"
   ]
  },
  {
   "cell_type": "code",
   "execution_count": 52,
   "metadata": {},
   "outputs": [
    {
     "data": {
      "image/png": "[encoded data removed]",
      "text/plain": [
       "<Figure size 432x288 with 1 Axes>"
      ]
     },
     "metadata": {
      "needs_background": "light"
     },
     "output_type": "display_data"
    }
   ],
   "source": [
    "# Visualising the Polynomial Regression results\n",
    "\n",
    "y_pred = linear_regressor_2.predict(x_poly)\n",
    "plt.scatter(x, y, color = 'orange')\n",
    "plt.plot(x, y_pred)\n",
    "plt.title('Polynomial Regression plot')\n",
    "plt.xlabel('Position level')\n",
    "plt.xlabel('Salary')\n",
    "plt.show()\n",
    "\n",
    "# Now we can see this graph is a smooth predictor"
   ]
  },
  {
   "cell_type": "code",
   "execution_count": 53,
   "metadata": {},
   "outputs": [
    {
     "data": {
      "text/plain": [
       "array([118727.27272727,  44151.51515152,   8439.39393939,  11590.90909091,\n",
       "        53606.06060606, 134484.84848485, 254227.27272727, 412833.33333333,\n",
       "       610303.03030303, 846636.36363636])"
      ]
     },
     "execution_count": 53,
     "metadata": {},
     "output_type": "execute_result"
    }
   ],
   "source": [
    "y_pred\n",
    "# Now these are some accurate predictions"
   ]
  },
  {
   "cell_type": "code",
   "execution_count": 54,
   "metadata": {},
   "outputs": [
    {
     "data": {
      "text/plain": [
       "array([  45000,   50000,   60000,   80000,  110000,  150000,  200000,\n",
       "        300000,  500000, 1000000], dtype=int64)"
      ]
     },
     "execution_count": 54,
     "metadata": {},
     "output_type": "execute_result"
    }
   ],
   "source": [
    "y"
   ]
  },
  {
   "cell_type": "code",
   "execution_count": 55,
   "metadata": {},
   "outputs": [
    {
     "data": {
      "image/png": "[encoded data removed]",
      "text/plain": [
       "<Figure size 432x288 with 1 Axes>"
      ]
     },
     "metadata": {
      "needs_background": "light"
     },
     "output_type": "display_data"
    }
   ],
   "source": [
    "# To predict even better we can even play around with degrees. Here we changed it to 3\n",
    "polynomial_regressor = PolynomialFeatures(degree = 3)\n",
    "x_poly = polynomial_regressor.fit_transform(x)\n",
    "linear_regressor_2 = LinearRegression()\n",
    "linear_regressor_2.fit(x_poly, y)\n",
    "\n",
    "# And plot it\n",
    "y_pred = linear_regressor_2.predict(x_poly)\n",
    "plt.scatter(x, y, color = 'orange')\n",
    "plt.plot(x, y_pred)\n",
    "plt.title('Polynomial Regression plot')\n",
    "plt.xlabel('Position level')\n",
    "plt.xlabel('Salary')\n",
    "plt.show()\n",
    "\n",
    "# Seems kinda better"
   ]
  },
  {
   "cell_type": "code",
   "execution_count": 56,
   "metadata": {},
   "outputs": [
    {
     "data": {
      "text/plain": [
       "array([ 14902.09790208,  78759.9067599 ,  94960.37296038,  88223.77622379,\n",
       "        83270.39627041, 104820.51282052, 177594.40559441, 326312.35431235,\n",
       "       575694.63869463, 950461.53846153])"
      ]
     },
     "execution_count": 56,
     "metadata": {},
     "output_type": "execute_result"
    }
   ],
   "source": [
    "y_pred\n",
    "# Maybe even better predictions"
   ]
  },
  {
   "cell_type": "code",
   "execution_count": 57,
   "metadata": {},
   "outputs": [
    {
     "data": {
      "text/plain": [
       "array([  45000,   50000,   60000,   80000,  110000,  150000,  200000,\n",
       "        300000,  500000, 1000000], dtype=int64)"
      ]
     },
     "execution_count": 57,
     "metadata": {},
     "output_type": "execute_result"
    }
   ],
   "source": [
    "y"
   ]
  },
  {
   "cell_type": "code",
   "execution_count": 58,
   "metadata": {},
   "outputs": [
    {
     "data": {
      "image/png": "[encoded data removed]",
      "text/plain": [
       "<Figure size 432x288 with 1 Axes>"
      ]
     },
     "metadata": {
      "needs_background": "light"
     },
     "output_type": "display_data"
    }
   ],
   "source": [
    "# For fun lets see what will degrees = 4 reveals\n",
    "\n",
    "polynomial_regressor = PolynomialFeatures(degree = 4)\n",
    "x_poly = polynomial_regressor.fit_transform(x)\n",
    "linear_regressor_2 = LinearRegression()\n",
    "linear_regressor_2.fit(x_poly, y)\n",
    "\n",
    "# And plot it\n",
    "y_pred = linear_regressor_2.predict(x_poly)\n",
    "plt.scatter(x, y, color = 'orange')\n",
    "plt.plot(x, y_pred)\n",
    "plt.title('Polynomial Regression plot')\n",
    "plt.xlabel('Position level')\n",
    "plt.xlabel('Salary')\n",
    "plt.show()\n",
    "\n",
    "# Actually even better"
   ]
  },
  {
   "cell_type": "code",
   "execution_count": 59,
   "metadata": {},
   "outputs": [
    {
     "data": {
      "text/plain": [
       "array([ 53356.64335683,  31759.90675992,  58642.19114218,  94632.86713289,\n",
       "       121724.941725  , 143275.05827513, 184003.49650353, 289994.17249412,\n",
       "       528694.6386945 , 988916.0839159 ])"
      ]
     },
     "execution_count": 59,
     "metadata": {},
     "output_type": "execute_result"
    }
   ],
   "source": [
    "y_pred\n",
    "# Even better predictions"
   ]
  },
  {
   "cell_type": "code",
   "execution_count": 60,
   "metadata": {},
   "outputs": [
    {
     "data": {
      "text/plain": [
       "array([  45000,   50000,   60000,   80000,  110000,  150000,  200000,\n",
       "        300000,  500000, 1000000], dtype=int64)"
      ]
     },
     "execution_count": 60,
     "metadata": {},
     "output_type": "execute_result"
    }
   ],
   "source": [
    "y"
   ]
  },
  {
   "cell_type": "code",
   "execution_count": 68,
   "metadata": {},
   "outputs": [
    {
     "data": {
      "image/png": "[encoded data removed]",
      "text/plain": [
       "<Figure size 432x288 with 1 Axes>"
      ]
     },
     "metadata": {
      "needs_background": "light"
     },
     "output_type": "display_data"
    }
   ],
   "source": [
    "# But we see that out model makes good predictions but it's plotting straight lines in between predictions and not smooth curves\n",
    "# We will tackle that here\n",
    "# Out model contains level 1-10 incrementing each by 1\n",
    "# To get a smoother curve we can increment it by 0.1 or 0.01 which will predict y_pred for each of 'x_grid'\n",
    "\n",
    "x_grid = np.arange(min(x), max(x), 0.01)\n",
    "x_grid = x_grid.reshape((len(x_grid), 1))\n",
    "# We made an array with values between min(x) and max(x) with incrementation of 0.1 at each step\n",
    "# We had to reshape it just to make sure it is an array with 'len(x)' rows and only 1 column just as it was in 'x'\n",
    "\n",
    "# And now we plot\n",
    "# For this we had to transform x_poly\n",
    "x_poly = polynomial_regressor.fit_transform(x_grid)\n",
    "y_pred = linear_regressor_2.predict(x_poly)\n",
    "plt.scatter(x, y, color = 'orange')\n",
    "plt.plot(x_grid, y_pred)\n",
    "plt.title('Polynomial Regression plot')\n",
    "plt.xlabel('Position level')\n",
    "plt.xlabel('Salary')\n",
    "plt.show()\n",
    "\n",
    "# Actually even smoother"
   ]
  },
  {
   "cell_type": "code",
   "execution_count": 84,
   "metadata": {},
   "outputs": [
    {
     "data": {
      "text/plain": [
       "array([330378.78787879])"
      ]
     },
     "execution_count": 84,
     "metadata": {},
     "output_type": "execute_result"
    }
   ],
   "source": [
    "# Predicting new result with a new input\n",
    "# Using Linear Regression Model:\n",
    "# We can actually use this method using 1 constant, but we have to send the data in the form of a 2-D array only\n",
    "\n",
    "linear_regressor.predict([[6.5]])"
   ]
  },
  {
   "cell_type": "code",
   "execution_count": 93,
   "metadata": {},
   "outputs": [
    {
     "data": {
      "text/plain": [
       "array([158862.45265157])"
      ]
     },
     "execution_count": 93,
     "metadata": {},
     "output_type": "execute_result"
    }
   ],
   "source": [
    "# Using polynomial regression model:\n",
    "\n",
    "linear_regressor_2.predict(polynomial_regressor.fit_transform([[6.5]]))\n",
    "# We put polynomial_regressor object inside because it makes the polynomial object that way with the 1's and 6.5 and then \n",
    "# shows us the results\n",
    "# Now this is a much accurate result"
   ]
  },
  {
   "cell_type": "code",
   "execution_count": null,
   "metadata": {},
   "outputs": [],
   "source": []
  }
 ],
 "metadata": {
  "kernelspec": {
   "display_name": "Python 3",
   "language": "python",
   "name": "python3"
  },
  "language_info": {
   "codemirror_mode": {
    "name": "ipython",
    "version": 3
   },
   "file_extension": ".py",
   "mimetype": "text/x-python",
   "name": "python",
   "nbconvert_exporter": "python",
   "pygments_lexer": "ipython3",
   "version": "3.7.3"
  }
 },
 "nbformat": 4,
 "nbformat_minor": 2
}
