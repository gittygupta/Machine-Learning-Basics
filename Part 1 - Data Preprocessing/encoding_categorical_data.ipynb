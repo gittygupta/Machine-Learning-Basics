{
 "cells": [
  {
   "cell_type": "code",
   "execution_count": null,
   "metadata": {},
   "outputs": [],
   "source": [
    "from sklearn.preprocessing import LabelEncoder\n",
    "labelencoder_country = LabelEncoder()\n",
    "x[:, 0] = labelencoder_country.fit_transform(x[:, 0])\n",
    "\n",
    "# Dummy encoding\n",
    "m = pd.get_dummies(pd.Series(x[:, 0]))\n",
    "data = pd.DataFrame({'Country':x[:,0],'Age':x[:,1], 'Salary':x[:,2]})\n",
    "data = data.drop('Country', axis = 1)\n",
    "data = pd.concat([m, data], axis=1)\n",
    "x = data.iloc[:, :].values"
   ]
  }
 ],
 "metadata": {
  "kernelspec": {
   "display_name": "Python 3",
   "language": "python",
   "name": "python3"
  },
  "language_info": {
   "codemirror_mode": {
    "name": "ipython",
    "version": 3
   },
   "file_extension": ".py",
   "mimetype": "text/x-python",
   "name": "python",
   "nbconvert_exporter": "python",
   "pygments_lexer": "ipython3",
   "version": "3.7.3"
  }
 },
 "nbformat": 4,
 "nbformat_minor": 2
}
